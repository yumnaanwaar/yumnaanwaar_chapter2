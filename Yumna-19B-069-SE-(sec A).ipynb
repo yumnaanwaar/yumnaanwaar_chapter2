{
 "cells": [
  {
   "cell_type": "markdown",
   "metadata": {},
   "source": [
    "# Yumna-19B-069-SE-(sec A)"
   ]
  },
  {
   "cell_type": "code",
   "execution_count": 1,
   "metadata": {},
   "outputs": [
    {
     "data": {
      "text/plain": [
       "15"
      ]
     },
     "execution_count": 1,
     "metadata": {},
     "output_type": "execute_result"
    }
   ],
   "source": [
    "#ex-2.1\n",
    "#a\n",
    "1 + 2 + 3 + 4 + 5"
   ]
  },
  {
   "cell_type": "code",
   "execution_count": 2,
   "metadata": {},
   "outputs": [
    {
     "name": "stdout",
     "output_type": "stream",
     "text": [
      "enter the sara age: 23\n",
      "enter mark age: 16\n",
      "enter fatima age: 19\n",
      "19.333333333333332\n"
     ]
    }
   ],
   "source": [
    "#b\n",
    "sara_age = eval(input(\"enter the sara age: \"))\n",
    "mark_age = eval(input(\"enter mark age: \"))\n",
    "fatima_age = eval(input(\"enter fatima age: \"))\n",
    "average = ((sara_age + mark_age + fatima_age)/3)\n",
    "print(average)"
   ]
  },
  {
   "cell_type": "code",
   "execution_count": 3,
   "metadata": {},
   "outputs": [
    {
     "name": "stdout",
     "output_type": "stream",
     "text": [
      "5\n"
     ]
    }
   ],
   "source": [
    "#c\n",
    "print(403 // 73)"
   ]
  },
  {
   "cell_type": "code",
   "execution_count": 4,
   "metadata": {},
   "outputs": [
    {
     "name": "stdout",
     "output_type": "stream",
     "text": [
      "38\n"
     ]
    }
   ],
   "source": [
    "#d\n",
    "print(403 % 73)"
   ]
  },
  {
   "cell_type": "code",
   "execution_count": 5,
   "metadata": {},
   "outputs": [
    {
     "name": "stdout",
     "output_type": "stream",
     "text": [
      "two to the paper 10 is:  1024\n"
     ]
    }
   ],
   "source": [
    "#e\n",
    "print(\"two to the paper 10 is: \",2 ** 10)"
   ]
  },
  {
   "cell_type": "code",
   "execution_count": 6,
   "metadata": {},
   "outputs": [
    {
     "name": "stdout",
     "output_type": "stream",
     "text": [
      "enter sara height: 54\n",
      "enter mark height: 57\n",
      "3\n"
     ]
    }
   ],
   "source": [
    "#f\n",
    "sara_height = eval(input(\"enter sara height: \"))\n",
    "mark_height = eval(input(\"enter mark height: \"))\n",
    "print(abs(sara_height - mark_height))"
   ]
  },
  {
   "cell_type": "code",
   "execution_count": 7,
   "metadata": {},
   "outputs": [
    {
     "data": {
      "text/plain": [
       "29.95"
      ]
     },
     "execution_count": 7,
     "metadata": {},
     "output_type": "execute_result"
    }
   ],
   "source": [
    "#g\n",
    "min(34.99, 29.95, 31.50)"
   ]
  },
  {
   "cell_type": "code",
   "execution_count": 8,
   "metadata": {},
   "outputs": [
    {
     "data": {
      "text/plain": [
       "False"
      ]
     },
     "execution_count": 8,
     "metadata": {},
     "output_type": "execute_result"
    }
   ],
   "source": [
    "#ex-2(a)\n",
    "2 + 2 < 4"
   ]
  },
  {
   "cell_type": "code",
   "execution_count": 9,
   "metadata": {},
   "outputs": [
    {
     "data": {
      "text/plain": [
       "True"
      ]
     },
     "execution_count": 9,
     "metadata": {},
     "output_type": "execute_result"
    }
   ],
   "source": [
    "#b\n",
    "7 // 3 == 1 + 1"
   ]
  },
  {
   "cell_type": "code",
   "execution_count": 10,
   "metadata": {},
   "outputs": [
    {
     "data": {
      "text/plain": [
       "True"
      ]
     },
     "execution_count": 10,
     "metadata": {},
     "output_type": "execute_result"
    }
   ],
   "source": [
    "#c\n",
    "3 ** 2 + 4 ** 2 == 25"
   ]
  },
  {
   "cell_type": "code",
   "execution_count": 11,
   "metadata": {},
   "outputs": [
    {
     "data": {
      "text/plain": [
       "False"
      ]
     },
     "execution_count": 11,
     "metadata": {},
     "output_type": "execute_result"
    }
   ],
   "source": [
    "#d\n",
    "2 + 4 + 6 > 12"
   ]
  },
  {
   "cell_type": "code",
   "execution_count": 12,
   "metadata": {},
   "outputs": [
    {
     "data": {
      "text/plain": [
       "True"
      ]
     },
     "execution_count": 12,
     "metadata": {},
     "output_type": "execute_result"
    }
   ],
   "source": [
    "#e\n",
    "1387 % 19 == 0"
   ]
  },
  {
   "cell_type": "code",
   "execution_count": 13,
   "metadata": {},
   "outputs": [
    {
     "data": {
      "text/plain": [
       "False"
      ]
     },
     "execution_count": 13,
     "metadata": {},
     "output_type": "execute_result"
    }
   ],
   "source": [
    "#f\n",
    "31 % 2 == 0"
   ]
  },
  {
   "cell_type": "code",
   "execution_count": 14,
   "metadata": {},
   "outputs": [
    {
     "data": {
      "text/plain": [
       "True"
      ]
     },
     "execution_count": 14,
     "metadata": {},
     "output_type": "execute_result"
    }
   ],
   "source": [
    "#g\n",
    "min(34.99, 29.95, 31.50) < 30.00"
   ]
  },
  {
   "cell_type": "code",
   "execution_count": 15,
   "metadata": {},
   "outputs": [
    {
     "name": "stdout",
     "output_type": "stream",
     "text": [
      "28\n"
     ]
    }
   ],
   "source": [
    "#ex-2.3\n",
    "#a\n",
    "a = 3\n",
    "#b\n",
    "b = 4\n",
    "#c\n",
    "c = (a*b) + (b*b)\n",
    "print(c)"
   ]
  },
  {
   "cell_type": "code",
   "execution_count": 16,
   "metadata": {},
   "outputs": [
    {
     "name": "stdout",
     "output_type": "stream",
     "text": [
      "ant bat cod\n",
      "ant ant ant ant ant ant ant ant ant ant \n",
      "ant bat bat cod cod cod \n",
      "ant bat ant bat ant bat ant bat ant bat ant bat ant bat \n",
      "batcodcod batcodcod batcodcod batcodcod batcodcod \n"
     ]
    }
   ],
   "source": [
    "#ex-2.4\n",
    "s1 = \"ant\"\n",
    "s2 = \"bat\"\n",
    "s3 = \"cod\"\n",
    "#a\n",
    "print(s1 + \" \" + s2 + \" \"+ s3)\n",
    "#b\n",
    "print(10 * (s1 + \" \"))\n",
    "#c\n",
    "print(s1 + \" \" + (2 * (s2 + \" \")) + (3 * (s3 + \" \")))\n",
    "#d\n",
    "print(7 * (s1 + \" \" + s2 + \" \"))\n",
    "#e\n",
    "print(5 * (s2 + s3 + s3 + \" \"))"
   ]
  },
  {
   "cell_type": "code",
   "execution_count": 17,
   "metadata": {},
   "outputs": [
    {
     "name": "stdout",
     "output_type": "stream",
     "text": [
      "0\n",
      "1\n",
      "6\n",
      "8\n",
      "9\n"
     ]
    }
   ],
   "source": [
    "#ex-2.5\n",
    "s = \"0123456789\"\n",
    "print(s[0])\n",
    "print(s[1])\n",
    "print(s[6])\n",
    "print(s[8])\n",
    "print(s[9])"
   ]
  },
  {
   "cell_type": "code",
   "execution_count": 31,
   "metadata": {},
   "outputs": [
    {
     "name": "stdout",
     "output_type": "stream",
     "text": [
      "badminton\n",
      "bat\n"
     ]
    }
   ],
   "source": [
    "#ex-2.6\n",
    "words = [\"bat\", \"ball\", \"barn\", \"basket\", \"badminton\"]\n",
    "print(min(words))\n",
    "print(max(words))"
   ]
  },
  {
   "cell_type": "code",
   "execution_count": 18,
   "metadata": {},
   "outputs": [
    {
     "name": "stdout",
     "output_type": "stream",
     "text": [
      "2\n",
      "10\n",
      "[3, 4, 6, 6, 7, 7, 9, 9, 10]\n",
      "6.777777777777778\n"
     ]
    }
   ],
   "source": [
    "#ex-2.7\n",
    "grades =[9, 7, 7, 10, 3, 9, 6, 6, 2]\n",
    "#a\n",
    "print(grades.count(7))\n",
    "#b\n",
    "grades[-1] = 4\n",
    "#c\n",
    "print(max(grades))\n",
    "#d\n",
    "grades.sort()\n",
    "print(grades)\n",
    "#e\n",
    "average = sum(grades)/9\n",
    "print(average)"
   ]
  },
  {
   "cell_type": "code",
   "execution_count": 19,
   "metadata": {},
   "outputs": [
    {
     "data": {
      "text/plain": [
       "False"
      ]
     },
     "execution_count": 19,
     "metadata": {},
     "output_type": "execute_result"
    }
   ],
   "source": [
    "#ex-2.8\n",
    "#a\n",
    "((2 + 3) == 4) or (a >= 5)"
   ]
  },
  {
   "cell_type": "code",
   "execution_count": 23,
   "metadata": {},
   "outputs": [
    {
     "data": {
      "text/plain": [
       "True"
      ]
     },
     "execution_count": 23,
     "metadata": {},
     "output_type": "execute_result"
    }
   ],
   "source": [
    "#b\n",
    "lst=[1,2,3,4,5,6,7,8,9]\n",
    "(((lst[1]) * (-3)) < (-10)) == 0"
   ]
  },
  {
   "cell_type": "code",
   "execution_count": 24,
   "metadata": {},
   "outputs": [
    {
     "data": {
      "text/plain": [
       "True"
      ]
     },
     "execution_count": 24,
     "metadata": {},
     "output_type": "execute_result"
    }
   ],
   "source": [
    "#c\n",
    "((lst[1]) * (-3) < (-10)) in [0, True]"
   ]
  },
  {
   "cell_type": "code",
   "execution_count": 25,
   "metadata": {},
   "outputs": [
    {
     "data": {
      "text/plain": [
       "18"
      ]
     },
     "execution_count": 25,
     "metadata": {},
     "output_type": "execute_result"
    }
   ],
   "source": [
    "#d\n",
    "(2 * (3 ** 2))"
   ]
  },
  {
   "cell_type": "code",
   "execution_count": 26,
   "metadata": {},
   "outputs": [
    {
     "data": {
      "text/plain": [
       "True"
      ]
     },
     "execution_count": 26,
     "metadata": {},
     "output_type": "execute_result"
    }
   ],
   "source": [
    "#e\n",
    "4/ 2 in [1, 2, 3]"
   ]
  },
  {
   "cell_type": "code",
   "execution_count": 27,
   "metadata": {},
   "outputs": [
    {
     "name": "stdout",
     "output_type": "stream",
     "text": [
      "<class 'int'>\n"
     ]
    }
   ],
   "source": [
    "#ex-2.9\n",
    "#a\n",
    "print(type(False + False))"
   ]
  },
  {
   "cell_type": "code",
   "execution_count": 28,
   "metadata": {},
   "outputs": [
    {
     "name": "stdout",
     "output_type": "stream",
     "text": [
      "<class 'float'>\n"
     ]
    }
   ],
   "source": [
    "#b\n",
    "print(type(2 * (3 ** 2.0)))"
   ]
  },
  {
   "cell_type": "code",
   "execution_count": 29,
   "metadata": {},
   "outputs": [
    {
     "name": "stdout",
     "output_type": "stream",
     "text": [
      "<class 'int'>\n"
     ]
    }
   ],
   "source": [
    "#c\n",
    "print(type((4 // 2) + (4 % 2)))"
   ]
  },
  {
   "cell_type": "code",
   "execution_count": 30,
   "metadata": {},
   "outputs": [
    {
     "name": "stdout",
     "output_type": "stream",
     "text": [
      "<class 'bool'>\n"
     ]
    }
   ],
   "source": [
    "#d\n",
    "print(type((2 + 3 == 4) or (5 >= 5)))"
   ]
  },
  {
   "cell_type": "code",
   "execution_count": 5,
   "metadata": {},
   "outputs": [
    {
     "ename": "NameError",
     "evalue": "name 'a' is not defined",
     "output_type": "error",
     "traceback": [
      "\u001b[1;31m---------------------------------------------------------------------------\u001b[0m",
      "\u001b[1;31mNameError\u001b[0m                                 Traceback (most recent call last)",
      "\u001b[1;32m<ipython-input-5-aa6a03d61a15>\u001b[0m in \u001b[0;36m<module>\u001b[1;34m\u001b[0m\n\u001b[0;32m      4\u001b[0m \u001b[0mperpendicular\u001b[0m \u001b[1;33m=\u001b[0m \u001b[1;34m\"a\"\u001b[0m\u001b[1;33m\u001b[0m\u001b[1;33m\u001b[0m\u001b[0m\n\u001b[0;32m      5\u001b[0m \u001b[0mbase\u001b[0m \u001b[1;33m=\u001b[0m \u001b[1;34m\"b\"\u001b[0m\u001b[1;33m\u001b[0m\u001b[1;33m\u001b[0m\u001b[0m\n\u001b[1;32m----> 6\u001b[1;33m \u001b[0mhypotenuse\u001b[0m \u001b[1;33m=\u001b[0m \u001b[0msqrt\u001b[0m\u001b[1;33m(\u001b[0m\u001b[1;33m(\u001b[0m\u001b[0ma\u001b[0m \u001b[1;33m**\u001b[0m \u001b[1;36m2\u001b[0m\u001b[1;33m)\u001b[0m \u001b[1;33m+\u001b[0m \u001b[1;33m(\u001b[0m\u001b[0mb\u001b[0m \u001b[1;33m**\u001b[0m \u001b[1;36m2\u001b[0m\u001b[1;33m)\u001b[0m\u001b[1;33m)\u001b[0m\u001b[1;33m\u001b[0m\u001b[1;33m\u001b[0m\u001b[0m\n\u001b[0m\u001b[0;32m      7\u001b[0m \u001b[1;31m#b\u001b[0m\u001b[1;33m\u001b[0m\u001b[1;33m\u001b[0m\u001b[1;33m\u001b[0m\u001b[0m\n\u001b[0;32m      8\u001b[0m \u001b[0mhypotenuse\u001b[0m \u001b[1;33m=\u001b[0m \u001b[0msqrt\u001b[0m\u001b[1;33m(\u001b[0m\u001b[1;33m(\u001b[0m\u001b[0ma\u001b[0m \u001b[1;33m**\u001b[0m \u001b[1;36m2\u001b[0m\u001b[1;33m)\u001b[0m \u001b[1;33m+\u001b[0m \u001b[1;33m(\u001b[0m\u001b[0mb\u001b[0m \u001b[1;33m**\u001b[0m \u001b[1;36m2\u001b[0m\u001b[1;33m)\u001b[0m\u001b[1;33m)\u001b[0m \u001b[1;33m==\u001b[0m \u001b[1;36m5\u001b[0m\u001b[1;33m\u001b[0m\u001b[1;33m\u001b[0m\u001b[0m\n",
      "\u001b[1;31mNameError\u001b[0m: name 'a' is not defined"
     ]
    }
   ],
   "source": [
    "#ex-2.10\n",
    "#a\n",
    "from math import sqrt\n",
    "perpendicular = \"a\"\n",
    "base = \"b\"\n",
    "hypotenuse = sqrt((a ** 2) + (b ** 2))\n",
    "#b\n",
    "hypotenuse = sqrt((a ** 2) + (b ** 2)) == 5\n",
    "#c\n",
    "from math import pi\n",
    "radius = a\n",
    "area = pi * radius ** 2\n",
    "#d\n",
    "radius = \"r\"\n",
    "(x - a) ** 2 + (y - b) ** 2 < r ** 2"
   ]
  },
  {
   "cell_type": "code",
   "execution_count": 30,
   "metadata": {},
   "outputs": [
    {
     "name": "stdout",
     "output_type": "stream",
     "text": [
      "-28\n",
      "10.651685393258427\n",
      "9.5367431640625e-07\n",
      "The number of times 61 goes into 436 is:  71\n",
      "The reminder when 4356 is divided by 61:  25\n"
     ]
    }
   ],
   "source": [
    "#ex-2.11\n",
    "#a\n",
    "lst = [-7, -6, -5, -4, -3, -2, -1]\n",
    "x = sum(lst)\n",
    "print(x)\n",
    "\n",
    "#b\n",
    "total_kids = 89\n",
    "average = ((17  * 9) + (24 * 10) + (21 * 11) + (27 * 12)) / total_kids\n",
    "print(average)\n",
    "\n",
    "#c\n",
    "print(2 ** -20)\n",
    "\n",
    "#d\n",
    "print(\"The number of times 61 goes into 436 is: \", 4356 // 61)\n",
    "\n",
    "#e\n",
    "print(\"The reminder when 4356 is divided by 61: \",4356 % 61)"
   ]
  },
  {
   "cell_type": "code",
   "execution_count": 32,
   "metadata": {},
   "outputs": [
    {
     "name": "stdout",
     "output_type": "stream",
     "text": [
      "-+\n",
      "-+-\n",
      "+--\n",
      "+--+--\n",
      "+--+--+--+--+--+--+--+--+--+--+--\n",
      "+-+++--+-+++--+-+++--+-+++--+-+++--\n"
     ]
    }
   ],
   "source": [
    "#ex-2.12\n",
    "s1 = '-'\n",
    "s2 = '+'\n",
    "# part a\n",
    "print(s1 + s2)\n",
    "# part b\n",
    "print(s1 + s2 + s1)\n",
    "# part c\n",
    "print(s2 + s1 * 2)\n",
    "# part d\n",
    "print(2 * (s2 + (s1 * 2)))\n",
    "# part e\n",
    "print(11 * (s2 + (s1 * 2))) \n",
    "# part f\n",
    "print(5 * (s2 + s1 + (3 * s2) + (2 * s1)))"
   ]
  },
  {
   "cell_type": "code",
   "execution_count": 33,
   "metadata": {},
   "outputs": [
    {
     "name": "stdout",
     "output_type": "stream",
     "text": [
      "a\n",
      "c\n",
      "z\n",
      "y\n",
      "q\n"
     ]
    }
   ],
   "source": [
    "#ex-2.13\n",
    "s = 'abcdefghijklmnopqrstuvwxyz'\n",
    "print(s[0])\n",
    "print(s[2])\n",
    "print(s[25])\n",
    "print(s[24])\n",
    "print(s[16])"
   ]
  },
  {
   "cell_type": "code",
   "execution_count": 34,
   "metadata": {},
   "outputs": [
    {
     "name": "stdout",
     "output_type": "stream",
     "text": [
      "True\n",
      "False\n",
      "False\n",
      "False\n",
      "True\n",
      "False\n"
     ]
    }
   ],
   "source": [
    "#ex-2.14\n",
    "s = 'goodbye'\n",
    "# part a\n",
    "print(s[0] == 'g')\n",
    "# part b\n",
    "print(s[6] == 'g')\n",
    "# part c\n",
    "print(s[0] == 'g' and s[1] == 'a')\n",
    "# part d\n",
    "print(s[5] == 'x')\n",
    "# part e\n",
    "x = int(len(s) / 2)\n",
    "print(s[x] == 'd')\n",
    "# part f\n",
    "print(s[0] == s[-1])"
   ]
  },
  {
   "cell_type": "code",
   "execution_count": 35,
   "metadata": {},
   "outputs": [
    {
     "name": "stdout",
     "output_type": "stream",
     "text": [
      "True\n",
      "True\n",
      "True\n",
      "True\n"
     ]
    }
   ],
   "source": [
    "#ex-2.15\n",
    "# part a\n",
    "x = len(\"anachronistically\")\n",
    "y = len(\"counterintuitive\")\n",
    "z = x == 1 + y\n",
    "print(z)\n",
    "\n",
    "# part b\n",
    "x = \"misinterpretation\"\n",
    "y = \"misrepresentation\"\n",
    "z = x < y\n",
    "print(z)\n",
    "\n",
    "# part c\n",
    "x = \"floccinaucinihilipilification\"\n",
    "y = x.find != \"e\"\n",
    "print(y)\n",
    "\n",
    "# part d\n",
    "x = len(\"counterrevolution\")\n",
    "y = len(\"counter\")\n",
    "z = len(\"resolution\")\n",
    "lengthOfYZ = y + z\n",
    "total = x == lengthOfYZ\n",
    "print(total)"
   ]
  },
  {
   "cell_type": "code",
   "execution_count": 36,
   "metadata": {},
   "outputs": [
    {
     "name": "stdout",
     "output_type": "stream",
     "text": [
      "6.5\n",
      "My fullname is John Fitzgerald Kennedy\n"
     ]
    }
   ],
   "source": [
    "#ex-2.16\n",
    "# part a\n",
    "a = 6\n",
    "b = 7\n",
    "# part b\n",
    "c = ((a + b) / 2)\n",
    "print(c)\n",
    "# part c\n",
    "inventory = ['paper', 'staples', 'pencils']\n",
    "# part d\n",
    "first = 'John'\n",
    "middle = 'Fitzgerald'\n",
    "last = 'Kennedy'\n",
    "# part e\n",
    "fullname = first + \" \" + middle + \" \" + last\n",
    "print(\"My fullname is \" + fullname)"
   ]
  },
  {
   "cell_type": "code",
   "execution_count": 37,
   "metadata": {},
   "outputs": [
    {
     "name": "stdout",
     "output_type": "stream",
     "text": [
      "True\n",
      "3\n",
      "23\n",
      "False\n",
      "False\n",
      "4\n",
      "10\n",
      "7\n",
      "False\n"
     ]
    }
   ],
   "source": [
    "#ex-2.17\n",
    "# part a\n",
    "print((17 - 9) < 10)\n",
    "# part b\n",
    "inventory = ['paper', 'staples', 'pencils']\n",
    "x = len(inventory)\n",
    "print(x)\n",
    "fullname = \"John Fitzgerald Kennedy\"\n",
    "y = len(fullname)\n",
    "print(y)\n",
    "print((5 * x) > y)\n",
    "# part c\n",
    "a = 6\n",
    "b = 7\n",
    "c = ((a + b) / 2)\n",
    "print(c > 24)\n",
    "# part d\n",
    "first = 'John'\n",
    "x = len(first)\n",
    "print(x)\n",
    "middle = 'Fitzgerald'\n",
    "y = len(middle)\n",
    "print(y)\n",
    "last = 'Kennedy'\n",
    "z = len(last)\n",
    "print(z)\n",
    "print(y > x and y < z)"
   ]
  },
  {
   "cell_type": "code",
   "execution_count": 38,
   "metadata": {},
   "outputs": [
    {
     "name": "stdout",
     "output_type": "stream",
     "text": [
      "False\n",
      "['rose', 'bougainvillea', 'yucca']\n",
      "['lilly of valley']\n",
      "['rose', 'bougainvillea', 'yucca', 'lilly of valley']\n"
     ]
    }
   ],
   "source": [
    "#ex-2.18\n",
    "# part a\n",
    "flower = ['rose', 'bougainvillea', 'yucca', 'marigold', 'daylilly', 'lilly of valley']\n",
    "# part b\n",
    "print('potato' in flower)\n",
    "# part c\n",
    "thorny = flower[0:3]\n",
    "print(thorny)\n",
    "# part d\n",
    "poisonous = flower[5:6]\n",
    "print(poisonous)\n",
    "# part e\n",
    "dangerous = thorny + poisonous\n",
    "print(dangerous)"
   ]
  },
  {
   "cell_type": "markdown",
   "metadata": {},
   "source": [
    "# Expressions,Variables and Assignments chp2"
   ]
  },
  {
   "cell_type": "code",
   "execution_count": 2,
   "metadata": {},
   "outputs": [
    {
     "name": "stdout",
     "output_type": "stream",
     "text": [
      "10\n",
      "6\n",
      "2.5\n",
      "2.0\n"
     ]
    }
   ],
   "source": [
    "print(3+7)\n",
    "print(3*2)\n",
    "print(5/2)\n",
    "print(4/2)"
   ]
  },
  {
   "cell_type": "code",
   "execution_count": 4,
   "metadata": {},
   "outputs": [
    {
     "name": "stdout",
     "output_type": "stream",
     "text": [
      "7\n",
      "6\n",
      "11.440333333333333\n",
      "0.3323846153846154\n"
     ]
    }
   ],
   "source": [
    "print(2*3+1)\n",
    "print(3+1*3)\n",
    "print(4.321/3+10)\n",
    "print(4.321/(3+10))"
   ]
  },
  {
   "cell_type": "code",
   "execution_count": 6,
   "metadata": {},
   "outputs": [
    {
     "name": "stdout",
     "output_type": "stream",
     "text": [
      "8\n",
      "16\n",
      "4\n",
      "2\n"
     ]
    }
   ],
   "source": [
    "print(2**3)\n",
    "print(2**4)\n",
    "print(14 // 3)\n",
    "print(14 % 3)"
   ]
  },
  {
   "cell_type": "code",
   "execution_count": 8,
   "metadata": {},
   "outputs": [
    {
     "name": "stdout",
     "output_type": "stream",
     "text": [
      "4\n",
      "4\n",
      "3.2\n"
     ]
    }
   ],
   "source": [
    "print(abs(-4))\n",
    "print(abs(4))\n",
    "print(abs(-3.2))"
   ]
  },
  {
   "cell_type": "code",
   "execution_count": 9,
   "metadata": {},
   "outputs": [
    {
     "name": "stdout",
     "output_type": "stream",
     "text": [
      "-2\n",
      "6\n",
      "-4\n",
      "26.5\n"
     ]
    }
   ],
   "source": [
    "print(min(6 , -2))\n",
    "print(max(6 , -2))\n",
    "print(min(2,-4,6,-2))\n",
    "print(max(12,26.5,3.5))"
   ]
  },
  {
   "cell_type": "markdown",
   "metadata": {},
   "source": [
    "# Boolean Expressions and Operators chp2"
   ]
  },
  {
   "cell_type": "code",
   "execution_count": 10,
   "metadata": {},
   "outputs": [
    {
     "name": "stdout",
     "output_type": "stream",
     "text": [
      "True\n",
      "False\n",
      "True\n"
     ]
    }
   ],
   "source": [
    "print(2 < 3)\n",
    "print(3 < 2)\n",
    "print(5 - 1 > 2 + 1)"
   ]
  },
  {
   "cell_type": "code",
   "execution_count": 11,
   "metadata": {},
   "outputs": [
    {
     "name": "stdout",
     "output_type": "stream",
     "text": [
      "True\n",
      "True\n",
      "False\n",
      "True\n",
      "False\n",
      "True\n"
     ]
    }
   ],
   "source": [
    "print(3 == 3)\n",
    "print(3 + 5 == 4 + 4)\n",
    "print(3 == 5 - 3)\n",
    "print(3 <= 4)\n",
    "print(3 >= 4)\n",
    "print(3 != 4)"
   ]
  },
  {
   "cell_type": "code",
   "execution_count": 12,
   "metadata": {},
   "outputs": [
    {
     "name": "stdout",
     "output_type": "stream",
     "text": [
      "True\n",
      "False\n",
      "False\n"
     ]
    }
   ],
   "source": [
    "print(3 < 4 or 4 < 3)\n",
    "print(3 < 2 or 2 < 1)\n",
    "print(not(3 < 4))"
   ]
  },
  {
   "cell_type": "code",
   "execution_count": 13,
   "metadata": {},
   "outputs": [
    {
     "name": "stdout",
     "output_type": "stream",
     "text": [
      "4\n",
      "16\n",
      "16\n"
     ]
    }
   ],
   "source": [
    "x = 4\n",
    "print(x)\n",
    "print(4 * x)\n",
    "counter = 4 * x\n",
    "print(counter)"
   ]
  },
  {
   "cell_type": "markdown",
   "metadata": {},
   "source": [
    "# Strings chp2"
   ]
  },
  {
   "cell_type": "code",
   "execution_count": 17,
   "metadata": {},
   "outputs": [
    {
     "name": "stdout",
     "output_type": "stream",
     "text": [
      "hello\n",
      "True\n",
      "False\n",
      "helloworld\n",
      "hello world\n"
     ]
    }
   ],
   "source": [
    "s = \"hello\"\n",
    "print(s)\n",
    "s == \"hello\"\n",
    "t = \"world\"\n",
    "print(s != t)\n",
    "print(s == t)\n",
    "print(s + t)\n",
    "print(s + ' ' + t)"
   ]
  },
  {
   "cell_type": "code",
   "execution_count": 16,
   "metadata": {},
   "outputs": [
    {
     "name": "stdout",
     "output_type": "stream",
     "text": [
      "True\n"
     ]
    }
   ],
   "source": [
    "print(s < t)\n",
    "print(s > t)"
   ]
  },
  {
   "cell_type": "code",
   "execution_count": 20,
   "metadata": {},
   "outputs": [
    {
     "name": "stdout",
     "output_type": "stream",
     "text": [
      "AAA\n",
      " hello  hello \n",
      "______________________________\n"
     ]
    }
   ],
   "source": [
    "print(3 * 'A')\n",
    "print(' hello ' * 2)\n",
    "print(30 * '_')"
   ]
  },
  {
   "cell_type": "code",
   "execution_count": 21,
   "metadata": {},
   "outputs": [
    {
     "name": "stdout",
     "output_type": "stream",
     "text": [
      "True\n",
      "False\n"
     ]
    }
   ],
   "source": [
    "s = 'hello'\n",
    "print('h' in s)\n",
    "print('g' in s)"
   ]
  },
  {
   "cell_type": "code",
   "execution_count": 24,
   "metadata": {},
   "outputs": [
    {
     "name": "stdout",
     "output_type": "stream",
     "text": [
      "h\n",
      "e\n",
      "o\n",
      "o\n",
      "l\n"
     ]
    }
   ],
   "source": [
    "print(s[0])\n",
    "print(s[1])\n",
    "print(s[4])\n",
    "print(s[-1])\n",
    "print(s[-2])"
   ]
  },
  {
   "cell_type": "markdown",
   "metadata": {},
   "source": [
    "# Lists and Tuples chp2"
   ]
  },
  {
   "cell_type": "code",
   "execution_count": 26,
   "metadata": {},
   "outputs": [
    {
     "name": "stdout",
     "output_type": "stream",
     "text": [
      "goldfish\n",
      "dog\n",
      "dog\n",
      "3\n",
      "['goldfish', 'cat', 'dog', 'goldfish', 'cat', 'dog']\n",
      "['goldfish', 'cat', 'dog', 'goldfish', 'cat', 'dog']\n",
      "False\n",
      "True\n"
     ]
    }
   ],
   "source": [
    "pets = ['goldfish' , 'cat' , 'dog']\n",
    "print(pets[0])\n",
    "print(pets[2])\n",
    "print(pets[-1])\n",
    "print(len(pets))\n",
    "print(pets + pets)\n",
    "print(pets * 2)\n",
    "print('rabbit' in pets)\n",
    "print('dog' in pets)"
   ]
  },
  {
   "cell_type": "code",
   "execution_count": 27,
   "metadata": {},
   "outputs": [
    {
     "name": "stdout",
     "output_type": "stream",
     "text": [
      "19.99\n",
      "120.99\n",
      "199.46999999999997\n"
     ]
    }
   ],
   "source": [
    "lst = [23.99 , 19.99 , 34.50 , 120.99]\n",
    "print(min(lst))\n",
    "print(max(lst))\n",
    "print(sum(lst))"
   ]
  },
  {
   "cell_type": "code",
   "execution_count": 29,
   "metadata": {},
   "outputs": [
    {
     "name": "stdout",
     "output_type": "stream",
     "text": [
      "['goldfish', 'cymric cat', 'dog']\n",
      "cymric cat\n"
     ]
    }
   ],
   "source": [
    "pets[1] = 'cymric cat'\n",
    "print(pets)\n",
    "myCat = 'cymric cat'\n",
    "print(myCat)"
   ]
  }
 ],
 "metadata": {
  "kernelspec": {
   "display_name": "Python 3",
   "language": "python",
   "name": "python3"
  },
  "language_info": {
   "codemirror_mode": {
    "name": "ipython",
    "version": 3
   },
   "file_extension": ".py",
   "mimetype": "text/x-python",
   "name": "python",
   "nbconvert_exporter": "python",
   "pygments_lexer": "ipython3",
   "version": "3.7.4"
  }
 },
 "nbformat": 4,
 "nbformat_minor": 2
}
